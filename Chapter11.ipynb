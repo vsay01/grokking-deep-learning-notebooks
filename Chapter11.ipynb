{
  "nbformat": 4,
  "nbformat_minor": 0,
  "metadata": {
    "colab": {
      "name": "Chapter11.ipynb",
      "provenance": [],
      "collapsed_sections": [],
      "authorship_tag": "ABX9TyPqlY38pAqn0LM+bzA1EswX",
      "include_colab_link": true
    },
    "kernelspec": {
      "name": "python3",
      "display_name": "Python 3"
    }
  },
  "cells": [
    {
      "cell_type": "markdown",
      "metadata": {
        "id": "view-in-github",
        "colab_type": "text"
      },
      "source": [
        "<a href=\"https://colab.research.google.com/github/vsay01/grokking-deep-learning-notebooks/blob/master/Chapter11.ipynb\" target=\"_parent\"><img src=\"https://colab.research.google.com/assets/colab-badge.svg\" alt=\"Open In Colab\"/></a>"
      ]
    },
    {
      "cell_type": "code",
      "metadata": {
        "id": "kYq60kpbrKbf",
        "colab_type": "code",
        "outputId": "4175efa6-6171-4ad2-fdab-31de6acb7da4",
        "colab": {
          "base_uri": "https://localhost:8080/",
          "height": 34
        }
      },
      "source": [
        "import numpy as np\n",
        "\n",
        "onehots = {}\n",
        "onehots['cat'] = np.array([1,0,0,0])\n",
        "onehots['the'] = np.array([0,1,0,0])\n",
        "onehots['dog'] = np.array([0,0,1,0])\n",
        "onehots['sat'] = np.array([0,0,0,1])\n",
        "\n",
        "sentence = ['the','cat','sat']\n",
        "x = onehots[sentence[0]] + \\\n",
        "    onehots[sentence[1]] + \\\n",
        "    onehots[sentence[2]]\n",
        "\n",
        "print(\"Sent Encoding:\" + str(x))"
      ],
      "execution_count": 0,
      "outputs": [
        {
          "output_type": "stream",
          "text": [
            "Sent Encoding:[1 1 0 1]\n"
          ],
          "name": "stdout"
        }
      ]
    }
  ]
}